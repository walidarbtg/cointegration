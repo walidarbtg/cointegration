{
 "cells": [
  {
   "cell_type": "code",
   "execution_count": 1,
   "id": "3bc8f491",
   "metadata": {},
   "outputs": [],
   "source": [
    "import numpy as np\n",
    "import pandas as pd\n",
    "import math\n",
    "\n",
    "import statsmodels\n",
    "from statsmodels.tsa.vector_ar.vecm import coint_johansen\n",
    "import statsmodels.api as stat\n",
    "import statsmodels.tsa.stattools as ts\n",
    "\n",
    "import matplotlib.pyplot as plt\n",
    "from datetime import datetime, date\n",
    "\n",
    "import seaborn as sb\n",
    "import scipy.stats as stats\n",
    "\n",
    "import warnings\n",
    "warnings.filterwarnings('ignore')"
   ]
  },
  {
   "cell_type": "markdown",
   "id": "797ebb42",
   "metadata": {},
   "source": [
    "## Import Data"
   ]
  },
  {
   "cell_type": "code",
   "execution_count": 22,
   "id": "eabfe42b",
   "metadata": {},
   "outputs": [],
   "source": [
    "# Import Data\n",
    "assets = ['ZECUSDT', 'XMRUSDT']\n",
    "data = {}\n",
    "prices = {}\n",
    "\n",
    "for asset in assets:\n",
    "    data[asset] = pd.read_csv('./{}_1h.csv'.format(asset), index_col=0)\n",
    "    data[asset].iloc[:,0] = pd.to_datetime(data[asset].iloc[:,0], unit='ms')\n",
    "    prices[asset] = pd.DataFrame({'date': data[asset].iloc[:,0], 'price': data[asset].iloc[:,3]})\n",
    "    prices[asset]['log_price'] = prices[asset]['price'].apply(lambda x: math.log(x))\n",
    "    prices[asset]['returns'] = prices[asset]['price'].pct_change().fillna(0)\n",
    "    prices[asset]['log_returns'] = prices[asset]['log_price'].pct_change().fillna(0)\n",
    "    "
   ]
  },
  {
   "cell_type": "markdown",
   "id": "e21d878e",
   "metadata": {},
   "source": [
    "## Utilities Functions"
   ]
  },
  {
   "cell_type": "code",
   "execution_count": 75,
   "id": "6cc56d2e",
   "metadata": {},
   "outputs": [],
   "source": [
    "def set_same_length(df1, df2):\n",
    "    # Set data same length\n",
    "    if len(df1) > len(df2):\n",
    "        diff = len(df1) - len(df2)\n",
    "        df1 = df1[diff:]\n",
    "    elif len(df1) < len(df2):\n",
    "        diff = len(df2) - len(df1)\n",
    "        df2 = df2[diff:]\n",
    "    else:\n",
    "        pass\n",
    "    \n",
    "    return df1, df2\n",
    "\n",
    "def rolling_zscore(series, window):\n",
    "    mean = series.rolling(window=window).mean()\n",
    "    std = series.rolling(window=window).std()\n",
    "\n",
    "    return (series - mean) / std\n"
   ]
  },
  {
   "cell_type": "markdown",
   "id": "8034a321",
   "metadata": {},
   "source": [
    "## Calculate Spread & Z-Score"
   ]
  },
  {
   "cell_type": "code",
   "execution_count": 82,
   "id": "21b7923c",
   "metadata": {},
   "outputs": [],
   "source": [
    "rolling_window = 24 * 14\n",
    "prices[assets[0]], prices[assets[1]] = get_same_length(prices[assets[0]], prices[assets[1]])\n",
    "\n",
    "# Spread\n",
    "price_spread = prices[assets[0]]['price'].reset_index()['price']/prices[assets[1]]['price'].reset_index()['price']\n",
    "log_price_spread = prices[assets[0]]['log_price'].reset_index()['log_price']/prices[assets[1]]['log_price'].reset_index()['log_price']\n",
    "spread = pd.DataFrame({'date': prices[assets[0]]['date'], 'price': list(price_spread)})\n",
    "log_spread = pd.DataFrame({'date': prices[assets[0]]['date'], 'price': list(price_spread)})\n",
    "\n",
    "# Z-Score\n",
    "zscore = rolling_zscore(log_spread['price'], rolling_window)\n"
   ]
  },
  {
   "cell_type": "code",
   "execution_count": 87,
   "id": "93a7495e",
   "metadata": {},
   "outputs": [
    {
     "data": {
      "text/plain": [
       "0         64.77\n",
       "1         65.38\n",
       "2         65.54\n",
       "3         67.12\n",
       "4         68.26\n",
       "          ...  \n",
       "18449    147.50\n",
       "18450    144.25\n",
       "18451    144.86\n",
       "18452    139.93\n",
       "18453    141.99\n",
       "Name: price, Length: 18454, dtype: float64"
      ]
     },
     "execution_count": 87,
     "metadata": {},
     "output_type": "execute_result"
    }
   ],
   "source": [
    "prices[assets[0]]['price'].reset_index()['price']"
   ]
  },
  {
   "cell_type": "markdown",
   "id": "1b2a790d",
   "metadata": {},
   "source": [
    "## Define Strategy"
   ]
  },
  {
   "cell_type": "code",
   "execution_count": 201,
   "id": "f022a83d",
   "metadata": {},
   "outputs": [],
   "source": [
    "# Arguments must be series\n",
    "# Returns trades\n",
    "def zscore_mean_reversion_strategy(price_a, price_b, window, std_multiple):\n",
    "    \n",
    "    returns_a = price_a.pct_change().fillna(0)\n",
    "    returns_b = price_b.pct_change().fillna(0)\n",
    "    position = [0]\n",
    "    \n",
    "    spread = price_a / price_b\n",
    "    zscore = list(rolling_zscore(spread, window).fillna(0))\n",
    "    \n",
    "    # Get Trades\n",
    "    for i in range(1, len(zscore)):\n",
    "        # If zscore goes above std and comes back under, short signal\n",
    "        if zscore[i-1] > std_multiple and zscore[i] < std_multiple:\n",
    "            print(zscore[i])\n",
    "            position.append(-1)\n",
    "        # If zscore goes under std and comes back over, long signal\n",
    "        elif zscore[i-1] < std_multiple and zscore[i] > std_multiple:\n",
    "            print(zscore[i])\n",
    "            position.append(1)\n",
    "        # If zscore goes back to 0, close trade\n",
    "        elif zscore[i] == 0:\n",
    "            position.append(0)\n",
    "        # Else, keep same position\n",
    "        else:\n",
    "            position.append(position[i-1])\n",
    "            \n",
    "    return positions"
   ]
  },
  {
   "cell_type": "code",
   "execution_count": 202,
   "id": "d30861d4",
   "metadata": {},
   "outputs": [],
   "source": [
    "# test\n",
    "price1 = prices[assets[0]]['log_price'].reset_index()['log_price']\n",
    "price2 = prices[assets[1]]['log_price'].reset_index()['log_price']\n",
    "returns1 = price1.pct_change().fillna(0)\n",
    "returns2 = price2.pct_change().fillna(0)\n",
    "positions = zscore_mean_reversion_strategy(price1, price2, 336, 200) #TODO: check strange behavior, with std 200 should never return a trade"
   ]
  },
  {
   "cell_type": "code",
   "execution_count": 205,
   "id": "c8779911",
   "metadata": {},
   "outputs": [
    {
     "data": {
      "text/plain": [
       "-1"
      ]
     },
     "execution_count": 205,
     "metadata": {},
     "output_type": "execute_result"
    }
   ],
   "source": [
    "positions[-1]"
   ]
  },
  {
   "cell_type": "code",
   "execution_count": 193,
   "id": "d0e0042a",
   "metadata": {},
   "outputs": [
    {
     "data": {
      "text/plain": [
       "0        0\n",
       "1        0\n",
       "2        0\n",
       "3        0\n",
       "4        0\n",
       "        ..\n",
       "18449    1\n",
       "18450    1\n",
       "18451    1\n",
       "18452    1\n",
       "18453    1\n",
       "Length: 18454, dtype: int64"
      ]
     },
     "execution_count": 193,
     "metadata": {},
     "output_type": "execute_result"
    }
   ],
   "source": [
    "pd.Series([-1] * len(positions)) * positions"
   ]
  },
  {
   "cell_type": "code",
   "execution_count": 194,
   "id": "8ba624fd",
   "metadata": {},
   "outputs": [
    {
     "data": {
      "text/plain": [
       "0       -0.000000\n",
       "1       -0.000585\n",
       "2       -0.000154\n",
       "3       -0.002352\n",
       "4       -0.001059\n",
       "           ...   \n",
       "18449    0.001878\n",
       "18450    0.002974\n",
       "18451   -0.000406\n",
       "18452    0.001726\n",
       "18453   -0.001921\n",
       "Length: 18454, dtype: float64"
      ]
     },
     "execution_count": 194,
     "metadata": {},
     "output_type": "execute_result"
    }
   ],
   "source": [
    "pd.Series([-1] * len(positions)) * returns2"
   ]
  },
  {
   "cell_type": "code",
   "execution_count": 195,
   "id": "534db108",
   "metadata": {},
   "outputs": [],
   "source": [
    "leg1 = returns1 * pd.Series(positions) # Returns of first leg\n",
    "leg2 = returns2 * pd.Series([-1] * len(positions)) #Returns of second leg (must inverse positions first)"
   ]
  },
  {
   "cell_type": "code",
   "execution_count": 196,
   "id": "41070806",
   "metadata": {},
   "outputs": [
    {
     "data": {
      "text/plain": [
       "<AxesSubplot:>"
      ]
     },
     "execution_count": 196,
     "metadata": {},
     "output_type": "execute_result"
    },
    {
     "data": {
      "image/png": "[encoded data removed]",
      "text/plain": [
       "<Figure size 432x288 with 1 Axes>"
      ]
     },
     "metadata": {
      "needs_background": "light"
     },
     "output_type": "display_data"
    }
   ],
   "source": [
    "leg1.cumsum().apply(np.exp).plot()\n",
    "leg2.cumsum().apply(np.exp).plot()"
   ]
  },
  {
   "cell_type": "code",
   "execution_count": 117,
   "id": "18f8a1a2",
   "metadata": {},
   "outputs": [
    {
     "data": {
      "text/plain": [
       "<matplotlib.lines.Line2D at 0x2892dd700>"
      ]
     },
     "execution_count": 117,
     "metadata": {},
     "output_type": "execute_result"
    },
    {
     "data": {
      "image/png": "[encoded data removed]",
      "text/plain": [
       "<Figure size 432x288 with 1 Axes>"
      ]
     },
     "metadata": {
      "needs_background": "light"
     },
     "output_type": "display_data"
    }
   ],
   "source": [
    "plt.plot(zscore.reset_index()['price'][13000:])\n",
    "plt.axhline(y=2, color='r')\n",
    "plt.axhline(y=-2, color='g')\n",
    "plt.axhline(y=0, color='b')"
   ]
  },
  {
   "cell_type": "code",
   "execution_count": null,
   "id": "e7b0fd12",
   "metadata": {},
   "outputs": [],
   "source": []
  }
 ],
 "metadata": {
  "kernelspec": {
   "display_name": "Python 3 (ipykernel)",
   "language": "python",
   "name": "python3"
  },
  "language_info": {
   "codemirror_mode": {
    "name": "ipython",
    "version": 3
   },
   "file_extension": ".py",
   "mimetype": "text/x-python",
   "name": "python",
   "nbconvert_exporter": "python",
   "pygments_lexer": "ipython3",
   "version": "3.9.10"
  }
 },
 "nbformat": 4,
 "nbformat_minor": 5
}
