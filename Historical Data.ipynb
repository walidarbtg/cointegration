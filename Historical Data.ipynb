{
 "cells": [
  {
   "cell_type": "code",
   "execution_count": 13,
   "id": "8f5b44c4",
   "metadata": {},
   "outputs": [],
   "source": [
    "import binance_api\n",
    "import numpy as np\n",
    "import pandas as pd\n",
    "import math\n",
    "from datetime import datetime, date"
   ]
  },
  {
   "cell_type": "code",
   "execution_count": 14,
   "id": "99e1edf7",
   "metadata": {},
   "outputs": [],
   "source": [
    "def get_historical_data(symbol, interval, startTime, endTime):\n",
    "    batch_limit = 1000\n",
    "    startDate = datetime.fromtimestamp(round(startTime/1000))\n",
    "    endDate = datetime.fromtimestamp(round(endTime/1000))\n",
    "    delta = endDate - startDate\n",
    "\n",
    "    # calculate how many data points we need to fetch to know how many batch call needed\n",
    "    if interval == '1m':\n",
    "        data_points = delta.days * 24 * 60\n",
    "        nbr_of_batch = math.ceil(data_points / batch_limit)\n",
    "    elif interval == '5m':\n",
    "        data_points = delta.days * 24 * 12\n",
    "        nbr_of_batch = math.ceil(data_points / batch_limit)\n",
    "    elif interval == '15m':\n",
    "        data_points = delta.days * 24 * 4\n",
    "        nbr_of_batch = math.ceil(data_points / batch_limit)\n",
    "    elif interval == '1h':\n",
    "        data_points = delta.days * 24\n",
    "        nbr_of_batch = math.ceil(data_points / batch_limit)\n",
    "    elif interval == '4h':\n",
    "        data_points = delta.days * 24 / 4\n",
    "        nbr_of_batch = math.ceil(data_points / batch_limit)\n",
    "    elif interval == '1d':\n",
    "        data_points = delta.days\n",
    "        nbr_of_batch = math.ceil(data_points / batch_limit)\n",
    "    else:\n",
    "        print(\"Incorrect interval\")\n",
    "        return\n",
    "\n",
    "    print('Download data for {} in {} chunks'.format(asset, nbr_of_batch))\n",
    "    historical_data = pd.DataFrame()\n",
    "    start = startTime\n",
    "    end = endTime\n",
    "    for i in range(0, nbr_of_batch):\n",
    "        if i != 0:\n",
    "            start = end\n",
    "        if start < endTime:\n",
    "            if interval == '1m':\n",
    "                # 60 seconds times 1000 minutes * 1000 to get milliseconds\n",
    "                end = start + batch_limit * 60 * 1000\n",
    "                if end > endTime:\n",
    "                    end = endTime\n",
    "            elif interval == '5m':\n",
    "                end = start + batch_limit * 5 * 60 * 1000\n",
    "            elif interval == '15m':\n",
    "                end = start + batch_limit * 15 * 60 * 1000\n",
    "            elif interval == '1h':\n",
    "                end = start + batch_limit * 60 * 60 * 1000\n",
    "                if end > endTime:\n",
    "                    end = endTime\n",
    "            elif interval == '4h':\n",
    "                end = start + batch_limit * 4 * 60 * 60 * 1000\n",
    "                if end > endTime:\n",
    "                    end = endTime\n",
    "            elif interval == '1d':\n",
    "                end = start + batch_limit * 24 * 60 * 60 * 1000\n",
    "                if end > endTime:\n",
    "                    end = endTime\n",
    "        \n",
    "        chunk = binance_api.get_historical_prices(symbol, interval, start, end)\n",
    "        historical_data = pd.concat([historical_data, pd.DataFrame(chunk)])\n",
    "        print('{} of {}'.format(i+1, nbr_of_batch))\n",
    "\n",
    "    return historical_data\n",
    "\n"
   ]
  },
  {
   "cell_type": "code",
   "execution_count": 22,
   "id": "87c87109",
   "metadata": {
    "scrolled": true
   },
   "outputs": [
    {
     "name": "stdout",
     "output_type": "stream",
     "text": [
      "2\n",
      "Download data for DASHUSDT in 20 chunks\n",
      "1 of 20\n",
      "2 of 20\n",
      "3 of 20\n",
      "4 of 20\n",
      "5 of 20\n",
      "6 of 20\n",
      "7 of 20\n",
      "8 of 20\n",
      "9 of 20\n",
      "10 of 20\n",
      "11 of 20\n",
      "12 of 20\n",
      "13 of 20\n",
      "14 of 20\n",
      "15 of 20\n",
      "16 of 20\n",
      "17 of 20\n",
      "18 of 20\n",
      "19 of 20\n",
      "20 of 20\n",
      "Done\n",
      "Download data for ZENUSDT in 20 chunks\n",
      "1 of 20\n",
      "2 of 20\n",
      "3 of 20\n",
      "4 of 20\n",
      "5 of 20\n",
      "6 of 20\n",
      "7 of 20\n",
      "8 of 20\n",
      "9 of 20\n",
      "10 of 20\n",
      "11 of 20\n",
      "12 of 20\n",
      "13 of 20\n",
      "14 of 20\n",
      "15 of 20\n",
      "16 of 20\n",
      "17 of 20\n",
      "18 of 20\n",
      "19 of 20\n",
      "20 of 20\n",
      "Done\n"
     ]
    }
   ],
   "source": [
    "symbols = ['DASHUSDT', 'ZENUSDT']\n",
    "print(len(symbols))\n",
    "for asset in symbols:\n",
    "    resolution = '1h'\n",
    "    startTime = round(datetime(2020, 1, 1).timestamp()) * 1000\n",
    "    endTime = round(datetime(2022, 3, 15).timestamp()) * 1000\n",
    "    historical_data = get_historical_data(asset, resolution, startTime, endTime)\n",
    "\n",
    "    historical_data\n",
    "    historical_data.to_csv('./{}_{}.csv'.format(asset, resolution))\n",
    "    print('Done')"
   ]
  },
  {
   "cell_type": "code",
   "execution_count": 2,
   "id": "90f719e1",
   "metadata": {},
   "outputs": [
    {
     "data": {
      "text/plain": [
       "24"
      ]
     },
     "execution_count": 2,
     "metadata": {},
     "output_type": "execute_result"
    }
   ],
   "source": [
    "len(symbols)"
   ]
  },
  {
   "cell_type": "code",
   "execution_count": null,
   "id": "21eba318",
   "metadata": {},
   "outputs": [],
   "source": []
  }
 ],
 "metadata": {
  "kernelspec": {
   "display_name": "Python 3 (ipykernel)",
   "language": "python",
   "name": "python3"
  },
  "language_info": {
   "codemirror_mode": {
    "name": "ipython",
    "version": 3
   },
   "file_extension": ".py",
   "mimetype": "text/x-python",
   "name": "python",
   "nbconvert_exporter": "python",
   "pygments_lexer": "ipython3",
   "version": "3.10.2"
  }
 },
 "nbformat": 4,
 "nbformat_minor": 5
}
